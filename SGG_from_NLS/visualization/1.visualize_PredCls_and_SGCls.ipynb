{
 "cells": [
  {
   "cell_type": "code",
   "execution_count": 2,
   "metadata": {},
   "outputs": [
    {
     "name": "stderr",
     "output_type": "stream",
     "text": [
      "/home/skchoi/.conda/envs/sgb_n/lib/python3.7/site-packages/tqdm/auto.py:22: TqdmWarning: IProgress not found. Please update jupyter and ipywidgets. See https://ipywidgets.readthedocs.io/en/stable/user_install.html\n",
      "  from .autonotebook import tqdm as notebook_tqdm\n"
     ]
    }
   ],
   "source": [
    "import torch\n",
    "import json\n",
    "import h5py\n",
    "import numpy as np\n",
    "from matplotlib.pyplot import imshow\n",
    "from PIL import Image, ImageDraw"
   ]
  },
  {
   "cell_type": "code",
   "execution_count": 5,
   "metadata": {},
   "outputs": [],
   "source": [
    "image_file = json.load(open('/hdd/skchoi/SGG_from_NLS/datasets/vg/image_data.json'))\n",
    "vocab_file = json.load(open('/hdd/skchoi/SGG_from_NLS/datasets/vg/VG-SGG-dicts-with-attri.json'))\n",
    "data_file = h5py.File('/hdd/skchoi/SGG_from_NLS/datasets/vg/VG-SGG-with-attri.h5', 'r')\n",
    "# remove invalid image\n",
    "corrupted_ims = [1592, 1722, 4616, 4617]\n",
    "tmp = []\n",
    "for item in image_file:\n",
    "    if int(item['image_id']) not in corrupted_ims:\n",
    "        tmp.append(item)\n",
    "image_file = tmp"
   ]
  },
  {
   "cell_type": "code",
   "execution_count": 20,
   "metadata": {},
   "outputs": [],
   "source": [
    "# load detected results\n",
    "detected_origin_path = '/home/kaihua/checkpoints/vctree-sgcls-only-vis/inference/VG_stanford_filtered_with_attribute_test/'\n",
    "detected_origin_result = torch.load(\"/hdd/skchoi/SGG_from_NLS/checkpoints/Language_OpensetCOCO_Uniter/inference/VG_stanford_filtered_with_attribute_test/result_dict.pytorch\")\n",
    "detected_info = json.load(open('/hdd/skchoi/SGG_from_NLS/checkpoints/Language_OpensetCOCO_Uniter/inference/VG_stanford_filtered_with_attribute_test/visual_info.json'))"
   ]
  },
  {
   "cell_type": "code",
   "execution_count": 35,
   "metadata": {},
   "outputs": [
    {
     "data": {
      "text/plain": [
       "[[204.1015625, 98.6328125, 217.28515625, 257.8125, 'door'],\n",
       " [441.40625, 83.984375, 499.0, 149.4140625, 'house'],\n",
       " [403.3203125, 264.16015625, 457.51953125, 279.296875, 'number'],\n",
       " [64.453125, 28.3203125, 80.56640625, 201.66015625, 'pole'],\n",
       " [133.7890625, 35.64453125, 465.8203125, 349.12109375, 'train'],\n",
       " [461.9140625, 127.44140625, 499.0, 179.6875, 'tree'],\n",
       " [192.3828125, 122.0703125, 203.61328125, 183.10546875, 'window'],\n",
       " [241.2109375, 81.0546875, 450.68359375, 175.29296875, 'windshield'],\n",
       " [107.421875, 155.76171875, 125.48828125, 194.82421875, 'woman']]"
      ]
     },
     "execution_count": 35,
     "metadata": {},
     "output_type": "execute_result"
    }
   ],
   "source": [
    "detected_info[0]['groundtruth']"
   ]
  },
  {
   "cell_type": "code",
   "execution_count": 36,
   "metadata": {},
   "outputs": [],
   "source": [
    "# get image info by index\n",
    "def get_info_by_idx(idx, det_input, thres=0.5):\n",
    "    groundtruth = det_input[idx]['groundtruths']\n",
    "    prediction =  det_input[idx]['predictions']\n",
    "\n",
    "    print(groundtruth, prediction)\n",
    "    '''\n",
    "    groundtruth = det_input['groundtruths'][idx]\n",
    "    prediction = det_input['predictions'][idx]\n",
    "    # image path\n",
    "    img_path = detected_info[idx]['img_file']\n",
    "    '''\n",
    "    # boxes\n",
    "    boxes = groundtruth.bbox\n",
    "\n",
    "    # object labels\n",
    "    idx2label = vocab_file['idx_to_label']\n",
    "    labels = ['{}-{}'.format(idx,idx2label[str(i)]) for idx, i in enumerate(groundtruth.get_field('labels').tolist())]\n",
    "    pred_labels = ['{}-{}'.format(idx,idx2label[str(i)]) for idx, i in enumerate(prediction.get_field('pred_labels').tolist())]\n",
    "    \n",
    "    # groundtruth relation triplet\n",
    "    idx2pred = vocab_file['idx_to_predicate']\n",
    "    gt_rels = groundtruth.get_field('relation_tuple').tolist()\n",
    "    gt_rels = [(labels[i[0]], idx2pred[str(i[2])], labels[i[1]]) for i in gt_rels]\n",
    "    # prediction relation triplet\n",
    "    pred_rel_pair = prediction.get_field('rel_pair_idxs').tolist()\n",
    "    pred_rel_label = prediction.get_field('pred_rel_scores')\n",
    "    pred_rel_label[:,0] = 0\n",
    "    pred_rel_score, pred_rel_label = pred_rel_label.max(-1)\n",
    "    #mask = pred_rel_score > thres\n",
    "    #pred_rel_score = pred_rel_score[mask]\n",
    "    #pred_rel_label = pred_rel_label[mask]\n",
    "    pred_rels = [(pred_labels[i[0]], idx2pred[str(j)], pred_labels[i[1]]) for i, j in zip(pred_rel_pair, pred_rel_label.tolist())]\n",
    "    return img_path, boxes, labels, gt_rels, pred_rels, pred_rel_score, pred_rel_label"
   ]
  },
  {
   "cell_type": "code",
   "execution_count": 37,
   "metadata": {},
   "outputs": [],
   "source": [
    "def draw_single_box(pic, box, color='red', draw_info=None):\n",
    "    draw = ImageDraw.Draw(pic)\n",
    "    x1,y1,x2,y2 = int(box[0]), int(box[1]), int(box[2]), int(box[3])\n",
    "    draw.rectangle(((x1, y1), (x2, y2)), outline=color)\n",
    "    if draw_info:\n",
    "        draw.rectangle(((x1, y1), (x1+50, y1+10)), fill=color)\n",
    "        info = draw_info\n",
    "        draw.text((x1, y1), info)\n",
    "\n",
    "def print_list(name, input_list):\n",
    "    for i, item in enumerate(input_list):\n",
    "        print(name + ' ' + str(i) + ': ' + str(item))\n",
    "    \n",
    "def draw_image(img_path, boxes, labels, gt_rels, pred_rels, pred_rel_score, pred_rel_label, print_img=True):\n",
    "    pic = Image.open(img_path)\n",
    "    num_obj = boxes.shape[0]\n",
    "    for i in range(num_obj):\n",
    "        info = labels[i]\n",
    "        draw_single_box(pic, boxes[i], draw_info=info)\n",
    "    if print_img:\n",
    "        display(pic)\n",
    "    if print_img:\n",
    "        print('*' * 50)\n",
    "        print_list('gt_boxes', labels)\n",
    "        print('*' * 50)\n",
    "        print_list('gt_rels', gt_rels)\n",
    "        print('*' * 50)\n",
    "    print_list('pred_rels', pred_rels[:20])\n",
    "    print('*' * 50)\n",
    "    \n",
    "    return None"
   ]
  },
  {
   "cell_type": "code",
   "execution_count": 38,
   "metadata": {},
   "outputs": [],
   "source": [
    "def show_selected(idx_list):\n",
    "    for select_idx in idx_list:\n",
    "        print(select_idx)\n",
    "        draw_image(*get_info_by_idx(select_idx, detected_info))\n",
    "        \n",
    "# def show_all(start_idx, length):\n",
    "#     for cand_idx in range(start_idx, start_idx+length):\n",
    "#         print(cand_idx)\n",
    "#         draw_image(*get_info_by_idx(cand_idx, detected_origin_result))"
   ]
  },
  {
   "cell_type": "code",
   "execution_count": 39,
   "metadata": {},
   "outputs": [
    {
     "name": "stdout",
     "output_type": "stream",
     "text": [
      "0\n"
     ]
    },
    {
     "ename": "KeyError",
     "evalue": "0",
     "output_type": "error",
     "traceback": [
      "\u001b[0;31m---------------------------------------------------------------------------\u001b[0m",
      "\u001b[0;31mKeyError\u001b[0m                                  Traceback (most recent call last)",
      "\u001b[0;32m/tmp/ipykernel_25086/2672554713.py\u001b[0m in \u001b[0;36m<module>\u001b[0;34m\u001b[0m\n\u001b[0;32m----> 1\u001b[0;31m \u001b[0mshow_all\u001b[0m\u001b[0;34m(\u001b[0m\u001b[0mstart_idx\u001b[0m\u001b[0;34m=\u001b[0m\u001b[0;36m0\u001b[0m\u001b[0;34m,\u001b[0m \u001b[0mlength\u001b[0m\u001b[0;34m=\u001b[0m\u001b[0;36m5\u001b[0m\u001b[0;34m)\u001b[0m\u001b[0;34m\u001b[0m\u001b[0;34m\u001b[0m\u001b[0m\n\u001b[0m\u001b[1;32m      2\u001b[0m \u001b[0;31m#show_selected([119, 967, 713, 5224, 19681, 25371])\u001b[0m\u001b[0;34m\u001b[0m\u001b[0;34m\u001b[0m\u001b[0;34m\u001b[0m\u001b[0m\n",
      "\u001b[0;32m/tmp/ipykernel_25086/3401274143.py\u001b[0m in \u001b[0;36mshow_all\u001b[0;34m(start_idx, length)\u001b[0m\n\u001b[1;32m      7\u001b[0m     \u001b[0;32mfor\u001b[0m \u001b[0mcand_idx\u001b[0m \u001b[0;32min\u001b[0m \u001b[0mrange\u001b[0m\u001b[0;34m(\u001b[0m\u001b[0mstart_idx\u001b[0m\u001b[0;34m,\u001b[0m \u001b[0mstart_idx\u001b[0m\u001b[0;34m+\u001b[0m\u001b[0mlength\u001b[0m\u001b[0;34m)\u001b[0m\u001b[0;34m:\u001b[0m\u001b[0;34m\u001b[0m\u001b[0;34m\u001b[0m\u001b[0m\n\u001b[1;32m      8\u001b[0m         \u001b[0mprint\u001b[0m\u001b[0;34m(\u001b[0m\u001b[0mcand_idx\u001b[0m\u001b[0;34m)\u001b[0m\u001b[0;34m\u001b[0m\u001b[0;34m\u001b[0m\u001b[0m\n\u001b[0;32m----> 9\u001b[0;31m         \u001b[0mdraw_image\u001b[0m\u001b[0;34m(\u001b[0m\u001b[0;34m*\u001b[0m\u001b[0mget_info_by_idx\u001b[0m\u001b[0;34m(\u001b[0m\u001b[0mcand_idx\u001b[0m\u001b[0;34m,\u001b[0m \u001b[0mdetected_origin_result\u001b[0m\u001b[0;34m)\u001b[0m\u001b[0;34m)\u001b[0m\u001b[0;34m\u001b[0m\u001b[0;34m\u001b[0m\u001b[0m\n\u001b[0m",
      "\u001b[0;32m/tmp/ipykernel_25086/3906878964.py\u001b[0m in \u001b[0;36mget_info_by_idx\u001b[0;34m(idx, det_input, thres)\u001b[0m\n\u001b[1;32m      1\u001b[0m \u001b[0;31m# get image info by index\u001b[0m\u001b[0;34m\u001b[0m\u001b[0;34m\u001b[0m\u001b[0;34m\u001b[0m\u001b[0m\n\u001b[1;32m      2\u001b[0m \u001b[0;32mdef\u001b[0m \u001b[0mget_info_by_idx\u001b[0m\u001b[0;34m(\u001b[0m\u001b[0midx\u001b[0m\u001b[0;34m,\u001b[0m \u001b[0mdet_input\u001b[0m\u001b[0;34m,\u001b[0m \u001b[0mthres\u001b[0m\u001b[0;34m=\u001b[0m\u001b[0;36m0.5\u001b[0m\u001b[0;34m)\u001b[0m\u001b[0;34m:\u001b[0m\u001b[0;34m\u001b[0m\u001b[0;34m\u001b[0m\u001b[0m\n\u001b[0;32m----> 3\u001b[0;31m     \u001b[0mgroundtruth\u001b[0m \u001b[0;34m=\u001b[0m \u001b[0mdet_input\u001b[0m\u001b[0;34m[\u001b[0m\u001b[0midx\u001b[0m\u001b[0;34m]\u001b[0m\u001b[0;34m[\u001b[0m\u001b[0;34m'groundtruths'\u001b[0m\u001b[0;34m]\u001b[0m\u001b[0;34m\u001b[0m\u001b[0;34m\u001b[0m\u001b[0m\n\u001b[0m\u001b[1;32m      4\u001b[0m     \u001b[0mprediction\u001b[0m \u001b[0;34m=\u001b[0m  \u001b[0mdet_input\u001b[0m\u001b[0;34m[\u001b[0m\u001b[0midx\u001b[0m\u001b[0;34m]\u001b[0m\u001b[0;34m[\u001b[0m\u001b[0;34m'predictions'\u001b[0m\u001b[0;34m]\u001b[0m\u001b[0;34m\u001b[0m\u001b[0;34m\u001b[0m\u001b[0m\n\u001b[1;32m      5\u001b[0m \u001b[0;34m\u001b[0m\u001b[0m\n",
      "\u001b[0;31mKeyError\u001b[0m: 0"
     ]
    }
   ],
   "source": [
    "show_all(start_idx=0, length=5)\n",
    "#show_selected([119, 967, 713, 5224, 19681, 25371])"
   ]
  },
  {
   "cell_type": "code",
   "execution_count": null,
   "metadata": {},
   "outputs": [],
   "source": []
  },
  {
   "cell_type": "code",
   "execution_count": null,
   "metadata": {
    "scrolled": false
   },
   "outputs": [],
   "source": []
  },
  {
   "cell_type": "code",
   "execution_count": null,
   "metadata": {},
   "outputs": [],
   "source": []
  },
  {
   "cell_type": "code",
   "execution_count": null,
   "metadata": {},
   "outputs": [],
   "source": []
  },
  {
   "cell_type": "code",
   "execution_count": null,
   "metadata": {},
   "outputs": [],
   "source": []
  },
  {
   "cell_type": "code",
   "execution_count": null,
   "metadata": {},
   "outputs": [],
   "source": []
  },
  {
   "cell_type": "code",
   "execution_count": null,
   "metadata": {},
   "outputs": [],
   "source": []
  },
  {
   "cell_type": "code",
   "execution_count": null,
   "metadata": {},
   "outputs": [],
   "source": []
  },
  {
   "cell_type": "code",
   "execution_count": null,
   "metadata": {},
   "outputs": [],
   "source": []
  },
  {
   "cell_type": "code",
   "execution_count": null,
   "metadata": {},
   "outputs": [],
   "source": []
  },
  {
   "cell_type": "code",
   "execution_count": null,
   "metadata": {},
   "outputs": [],
   "source": []
  },
  {
   "cell_type": "code",
   "execution_count": null,
   "metadata": {},
   "outputs": [],
   "source": []
  }
 ],
 "metadata": {
  "kernelspec": {
   "display_name": "sgb_n",
   "language": "python",
   "name": "python3"
  },
  "language_info": {
   "codemirror_mode": {
    "name": "ipython",
    "version": 3
   },
   "file_extension": ".py",
   "mimetype": "text/x-python",
   "name": "python",
   "nbconvert_exporter": "python",
   "pygments_lexer": "ipython3",
   "version": "3.7.15"
  },
  "vscode": {
   "interpreter": {
    "hash": "911d6252d492c1666c0c9cfca324b12c89bd7380dbf430ed6eac4b221a5124b4"
   }
  }
 },
 "nbformat": 4,
 "nbformat_minor": 2
}
